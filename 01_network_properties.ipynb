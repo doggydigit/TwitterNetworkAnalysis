{
 "cells": [
  {
   "cell_type": "markdown",
   "metadata": {},
   "source": [
    "# Collect and Analyze a Twitter Network\n",
    "[Effrosyni Simou](http://lts4.epfl.ch/simou), *PhD Student*, [EPFL](http://epfl.ch) [LTS4](http://lts4.epfl.ch)"
   ]
  },
  {
   "cell_type": "markdown",
   "metadata": {},
   "source": [
    "# Objective of Exercise\n",
    "The aim of this exercise is to learn how to create your own, real network using data collected from the Internet and then to discover some properties of the collected network. "
   ]
  },
  {
   "cell_type": "markdown",
   "metadata": {},
   "source": [
    "# Resources\n",
    "You might want to have a look at the following resources before starting:\n",
    "\n",
    "* [Twitter REST API](https://dev.twitter.com/rest/public)\n",
    "* [Tweepy Documentation](http://tweepy.readthedocs.io/en/v3.5.0/)\n",
    "* [Tutorial \"Mining Twitter data with Python\"](https://marcobonzanini.com/2015/03/02/mining-twitter-data-with-python-part-1/)"
   ]
  },
  {
   "cell_type": "markdown",
   "metadata": {},
   "source": [
    "# 1. Collect a Twitter Network"
   ]
  },
  {
   "cell_type": "markdown",
   "metadata": {},
   "source": [
    "In order to collect data from Twitter you will need to generate access tokens.  To do this you will need to register a [client application with Twitter](https://apps.twitter.com/). Once you are done you should have your tokens. You can now create a `credentials.ini` file as follows:\n",
    "```\n",
    "[twitter]\n",
    "consumer_key = YOUR-CONSUMER-KEY\n",
    "consumer_secret = YOUR-CONSUMER-SECRET\n",
    "access_token = YOUR-ACCESS-TOKEN\n",
    "access_secret = YOUR-ACCESS-SECRET\n",
    "```\n",
    "In this way you will have this information readily available to you. "
   ]
  },
  {
   "cell_type": "code",
   "execution_count": 1,
   "metadata": {
    "collapsed": true
   },
   "outputs": [],
   "source": [
    "%matplotlib inline\n",
    "\n",
    "import random\n",
    "import configparser\n",
    "import matplotlib.pyplot as plt\n",
    "import numpy as np\n",
    "from pprint import pprint\n",
    "import tweepy  # you will need to install tweepy first"
   ]
  },
  {
   "cell_type": "code",
   "execution_count": 2,
   "metadata": {},
   "outputs": [
    {
     "name": "stderr",
     "output_type": "stream",
     "text": [
      "/home/chi/anaconda2/lib/python2.7/site-packages/ipykernel_launcher.py:3: DeprecationWarning: You passed a bytestring as `filenames`. This will not work on Python 3. Use `cp.read_file()` or switch to using Unicode strings across the board.\n",
      "  This is separate from the ipykernel package so we can avoid doing imports until\n"
     ]
    }
   ],
   "source": [
    "# Read the confidential token.\n",
    "credentials = configparser.ConfigParser()\n",
    "credentials.read('../Demos/TwitterDataAcquisition/credentials.ini')\n",
    "\n",
    "#authentication\n",
    "auth = tweepy.OAuthHandler(credentials.get('twitter', 'consumer_key'), credentials.get('twitter', 'consumer_secret'))\n",
    "auth.set_access_token(credentials.get('twitter', 'access_token'), credentials.get('twitter', 'access_secret'))\n",
    "\n",
    "#construct API instance\n",
    "#deal with rate limits and notify when delayed because of rate limits\n",
    "api = tweepy.API(auth,wait_on_rate_limit=True, wait_on_rate_limit_notify=True)"
   ]
  },
  {
   "cell_type": "markdown",
   "metadata": {},
   "source": [
    "Now you are all set up to start collecting data from Twitter! "
   ]
  },
  {
   "cell_type": "markdown",
   "metadata": {},
   "source": [
    "In this exercise we will construct a network with the following logic:\n",
    "\n",
    "1) We will chose a `user_id` in Twitter to be our first node. \n",
    "\n",
    "2) We will find (some) of the users who are both following `user_id` and are being followed by `user_id`. From now on we will call such users \"connections\" of `user_id`. We will place these user ids in a list called `first_nodes`. \n",
    "\n",
    "3) For every node in the list `first_nodes` we will then find (some) of the users who are following and are being followed by this node (aka the connections of this node). The user ids collected in this step will be placed in a list called `second_nodes`.\n",
    "\n",
    "4) The collection of the ids of all nodes (aka Twitter users) that we have collected so far will be placed in a list called `all_nodes`.\n",
    "\n",
    "5) Since we have only collected a subset of all possible \"connections\" for our nodes we have to check if there are any remaining inner connections that we have missed.\n",
    "\n",
    "The entire network is to be organized in a dictionary with entries that will have as key the Twitter id of the user (this is a number characterizing each user in Twitter) and as value the list of ids of his connections.\n",
    "\n",
    "So, let us begin. The first thing that you will have to do is to chose the node from which everything will start. I have chosen the Twitter account of [Applied Machine Learning Days](https://www.appliedmldays.org) that will take place in January 2018 in EPFL. You may change that if you wish to, but please make sure that the user you chose has both followers and friends and that he allows you to access this data."
   ]
  },
  {
   "cell_type": "code",
   "execution_count": 3,
   "metadata": {
    "collapsed": true
   },
   "outputs": [],
   "source": [
    "user = 'appliedmldays '\n",
    "user_id=api.get_user(user).id"
   ]
  },
  {
   "cell_type": "markdown",
   "metadata": {},
   "source": [
    "In the following cell write a function that takes as an argument the Twitter id of a user and returns a list with the **ids** of his connections. Take into account the case where a user does not allow you to access this information.\n",
    "\n",
    "**Reminder:** By connections we mean users that are both followers and friends of a given user."
   ]
  },
  {
   "cell_type": "code",
   "execution_count": 4,
   "metadata": {
    "collapsed": true
   },
   "outputs": [],
   "source": [
    "def find_connections(user_id):\n",
    "    followers = api.followers_ids(user_id)\n",
    "    friends = api.friends_ids(user_id)\n",
    "    connections = []\n",
    "    for f in followers:\n",
    "        if f in friends:\n",
    "            connections.append(f)\n",
    "    return connections"
   ]
  },
  {
   "cell_type": "code",
   "execution_count": 5,
   "metadata": {},
   "outputs": [
    {
     "name": "stdout",
     "output_type": "stream",
     "text": [
      "appliedmldays has 139 connections\n"
     ]
    }
   ],
   "source": [
    "first_connections=find_connections(user_id)\n",
    "print('{}has {} connections'.format(user, len(first_connections)))"
   ]
  },
  {
   "cell_type": "markdown",
   "metadata": {},
   "source": [
    "Collect your `first_nodes` and `second_nodes` and organize your collected nodes and their connections in the dictionary called `network`."
   ]
  },
  {
   "cell_type": "markdown",
   "metadata": {},
   "source": [
    "Hints:\n",
    "* Use `random.choice([1,3,4])` to randomly choose a number in `[1, 3, 4]`.\n",
    "* Use the `append` and `remove` methods to add and remove an element from a Python list.\n",
    "* The `pop` method removes the last item in the list."
   ]
  },
  {
   "cell_type": "code",
   "execution_count": 6,
   "metadata": {
    "collapsed": true
   },
   "outputs": [],
   "source": [
    "network={}\n",
    "first_nodes=[]\n",
    "second_nodes=[]\n",
    "how_many=12#This is the number of connections you are sampling. \n",
    "          #Keep small (e.g.3) for development, larger later (e.g. 10)\n",
    "#your code here\n",
    "first_nodes = random.sample((first_connections),how_many)\n",
    "for nid in first_nodes:\n",
    "    connections=find_connections(nid)\n",
    "    if len(connections) > how_many:\n",
    "        new_nodes  = random.sample((connections),how_many)\n",
    "    else:\n",
    "        new_nodes= []\n",
    "    network[nid] = list(set(new_nodes + [user_id]))\n",
    "    for f in first_nodes:\n",
    "        if f in connections and not(f in new_nodes):\n",
    "            network[nid] += [f]\n",
    "    second_nodes.extend(new_nodes)\n",
    "second_nodes=list(set(second_nodes))\n",
    "for nid in second_nodes:\n",
    "        if nid in (first_nodes + [user_id]):\n",
    "            second_nodes.remove(nid)"
   ]
  },
  {
   "cell_type": "markdown",
   "metadata": {},
   "source": [
    "**Be careful!** You should only keep a small value for the `how_many` parameter while you are developing your code. In order to answer to the questions you should raise the value of this parameter to `how_many=10` at least. This will take a while to execute because of the API rate limit (plan your time accordingly). You should also remember to submit your jupyter notebook with the **output shown for a large value of the `how_many` parameter**. "
   ]
  },
  {
   "cell_type": "code",
   "execution_count": 7,
   "metadata": {
    "collapsed": true
   },
   "outputs": [],
   "source": [
    "network[user_id] = first_nodes"
   ]
  },
  {
   "cell_type": "code",
   "execution_count": 8,
   "metadata": {},
   "outputs": [
    {
     "name": "stdout",
     "output_type": "stream",
     "text": [
      "{34566614: [20522624,\n",
      "            812226048356188160,\n",
      "            39505635,\n",
      "            24133893,\n",
      "            750518582761680896,\n",
      "            18869153,\n",
      "            3662072362,\n",
      "            46683981,\n",
      "            17061491,\n",
      "            379884632,\n",
      "            33007738,\n",
      "            79809418,\n",
      "            763052115392593920],\n",
      " 123969580: [812337101702393856,\n",
      "             763052115392593920,\n",
      "             841408947009515522,\n",
      "             2201147526,\n",
      "             2784120137,\n",
      "             3065917227,\n",
      "             2805995374,\n",
      "             457409104,\n",
      "             77540948,\n",
      "             2614934260,\n",
      "             25478329,\n",
      "             2730064916,\n",
      "             2885870877],\n",
      " 140856473: [871273766827028480,\n",
      "             831243221665714177,\n",
      "             167943459,\n",
      "             763052115392593920,\n",
      "             840419880,\n",
      "             330391433,\n",
      "             14778542,\n",
      "             82965309,\n",
      "             253764020,\n",
      "             1853880823,\n",
      "             3842221403,\n",
      "             552983932,\n",
      "             4299008861,\n",
      "             2965901567,\n",
      "             3675620543],\n",
      " 156031097: [763052115392593920,\n",
      "             80533749,\n",
      "             1408464710,\n",
      "             57927080,\n",
      "             17347849,\n",
      "             382134761,\n",
      "             604686251,\n",
      "             205867569,\n",
      "             572479189,\n",
      "             231796277,\n",
      "             164241783,\n",
      "             49625016,\n",
      "             407650005],\n",
      " 392695595: [759063904421109760,\n",
      "             821769650211930112,\n",
      "             1869656774,\n",
      "             2324100967,\n",
      "             126498177,\n",
      "             286426225,\n",
      "             2493945492,\n",
      "             3109263509,\n",
      "             384009624,\n",
      "             74579025,\n",
      "             1735163995,\n",
      "             4796823518,\n",
      "             763052115392593920],\n",
      " 1888937989: [729186722433646592,\n",
      "              735224078877986817,\n",
      "              193034757,\n",
      "              763052115392593920,\n",
      "              1133330120,\n",
      "              2386990159,\n",
      "              19120080,\n",
      "              555086385,\n",
      "              4023138070,\n",
      "              794885366,\n",
      "              1089099516,\n",
      "              2419784509,\n",
      "              81305054],\n",
      " 2517675395: [763052115392593920,\n",
      "              465835901,\n",
      "              2962081096,\n",
      "              159523154,\n",
      "              46885613,\n",
      "              338148880,\n",
      "              36946706,\n",
      "              1071811987,\n",
      "              498238325,\n",
      "              297502390,\n",
      "              344048952,\n",
      "              186946557,\n",
      "              428718878],\n",
      " 2965901567: [763052115392593920, 140856473],\n",
      " 3675620543: [715979321123479552,\n",
      "              907536048590336000,\n",
      "              763052115392593920,\n",
      "              2375867761,\n",
      "              418348808,\n",
      "              2210435018,\n",
      "              2858404504,\n",
      "              572946803,\n",
      "              507421694,\n",
      "              3091761880,\n",
      "              140856473,\n",
      "              393047421,\n",
      "              53388766],\n",
      " 4066214715: [2393685600,\n",
      "              889412057749008385,\n",
      "              17963875,\n",
      "              872474385030017024,\n",
      "              850002872779538433,\n",
      "              763052115392593920,\n",
      "              721701318201618432,\n",
      "              36228271,\n",
      "              29590334,\n",
      "              437563351,\n",
      "              4253952153,\n",
      "              15704958,\n",
      "              18461535],\n",
      " 712757740238667777: [763052115392593920],\n",
      " 763052115392593920: [140856473,\n",
      "                      2965901567,\n",
      "                      801444727946149888,\n",
      "                      123969580,\n",
      "                      34566614,\n",
      "                      3675620543,\n",
      "                      712757740238667777,\n",
      "                      392695595,\n",
      "                      4066214715,\n",
      "                      2517675395,\n",
      "                      156031097,\n",
      "                      1888937989],\n",
      " 801444727946149888: [801792750106578944,\n",
      "                      764258099494424576,\n",
      "                      718175074537177088,\n",
      "                      791070237949034496,\n",
      "                      772203134269652992,\n",
      "                      624668875,\n",
      "                      623269836,\n",
      "                      396746547,\n",
      "                      2910644884,\n",
      "                      763052115392593920,\n",
      "                      3192618236,\n",
      "                      2427509917,\n",
      "                      752567867762245632]}\n"
     ]
    }
   ],
   "source": [
    "pprint(network)"
   ]
  },
  {
   "cell_type": "code",
   "execution_count": 9,
   "metadata": {
    "collapsed": true
   },
   "outputs": [],
   "source": [
    "all_nodes = [user_id] + first_nodes + second_nodes #your code here"
   ]
  },
  {
   "cell_type": "code",
   "execution_count": 10,
   "metadata": {},
   "outputs": [
    {
     "name": "stdout",
     "output_type": "stream",
     "text": [
      "There are 12 first hop nodes\n",
      "There are 119 second hop nodes\n",
      "There are overall 132 nodes in the collected network\n"
     ]
    }
   ],
   "source": [
    "print('There are {} first hop nodes'.format(len(first_nodes)))\n",
    "print('There are {} second hop nodes'.format(len(second_nodes)))\n",
    "print('There are overall {} nodes in the collected network'.format(len(all_nodes)))"
   ]
  },
  {
   "cell_type": "code",
   "execution_count": 11,
   "metadata": {
    "collapsed": true
   },
   "outputs": [],
   "source": [
    "for i in second_nodes:\n",
    "    network[i]=[]"
   ]
  },
  {
   "cell_type": "markdown",
   "metadata": {},
   "source": [
    "Find the inner connections between your collected nodes that you might have missed because you sampled the connections."
   ]
  },
  {
   "cell_type": "code",
   "execution_count": 13,
   "metadata": {},
   "outputs": [
    {
     "name": "stdout",
     "output_type": "stream",
     "text": [
      "Rate limit reached. Sleeping for: 851\n",
      "Rate limit reached. Sleeping for: 854\n",
      "Rate limit reached. Sleeping for: 853\n",
      "Rate limit reached. Sleeping for: 852\n",
      "Rate limit reached. Sleeping for: 850\n",
      "Rate limit reached. Sleeping for: 852\n",
      "Rate limit reached. Sleeping for: 848\n",
      "Rate limit reached. Sleeping for: 853\n",
      "Rate limit reached. Sleeping for: 851\n",
      "Rate limit reached. Sleeping for: 851\n",
      "Rate limit reached. Sleeping for: 850\n",
      "Rate limit reached. Sleeping for: 843\n",
      "Rate limit reached. Sleeping for: 853\n",
      "Rate limit reached. Sleeping for: 837\n",
      "Rate limit reached. Sleeping for: 853\n",
      "Rate limit reached. Sleeping for: 852\n",
      "Ids 205867569 and 57927080 raised the TweepError:\n",
      "Not authorized.\n",
      "Rate limit reached. Sleeping for: 854\n",
      "Rate limit reached. Sleeping for: 847\n",
      "Rate limit reached. Sleeping for: 851\n",
      "Rate limit reached. Sleeping for: 850\n",
      "Rate limit reached. Sleeping for: 853\n",
      "Rate limit reached. Sleeping for: 844\n",
      "Rate limit reached. Sleeping for: 847\n",
      "Rate limit reached. Sleeping for: 845\n",
      "Rate limit reached. Sleeping for: 845\n",
      "Rate limit reached. Sleeping for: 843\n",
      "Rate limit reached. Sleeping for: 850\n",
      "Rate limit reached. Sleeping for: 850\n",
      "Rate limit reached. Sleeping for: 849\n",
      "Rate limit reached. Sleeping for: 853\n",
      "Rate limit reached. Sleeping for: 846\n",
      "Rate limit reached. Sleeping for: 851\n",
      "Rate limit reached. Sleeping for: 850\n",
      "Rate limit reached. Sleeping for: 852\n",
      "Rate limit reached. Sleeping for: 850\n",
      "Rate limit reached. Sleeping for: 852\n",
      "Rate limit reached. Sleeping for: 852\n",
      "Rate limit reached. Sleeping for: 851\n",
      "Rate limit reached. Sleeping for: 852\n",
      "Rate limit reached. Sleeping for: 850\n",
      "Rate limit reached. Sleeping for: 852\n",
      "Rate limit reached. Sleeping for: 849\n",
      "Rate limit reached. Sleeping for: 851\n",
      "Rate limit reached. Sleeping for: 850\n",
      "Rate limit reached. Sleeping for: 851\n",
      "Rate limit reached. Sleeping for: 850\n",
      "Rate limit reached. Sleeping for: 852\n"
     ]
    }
   ],
   "source": [
    "for i in range(0,len(all_nodes)):\n",
    "    # your code here\n",
    "    for j in range(i+1,len(all_nodes)):\n",
    "        if all_nodes[i] in network[all_nodes[j]]:\n",
    "            if not (all_nodes[j] in network[all_nodes[i]]):\n",
    "                network[all_nodes[i]].extend([all_nodes[j]])\n",
    "        elif all_nodes[j] in network[all_nodes[i]]:\n",
    "            if not (all_nodes[i] in network[all_nodes[j]]):\n",
    "                network[all_nodes[j]].extend([all_nodes[i]])\n",
    "        else:\n",
    "            try:\n",
    "                status = api.show_friendship(source_id=all_nodes[i],target_id=all_nodes[j])\n",
    "            except tweepy.TweepError as e:\n",
    "                print \"Ids {} and {} raised the TweepError:\".format(all_nodes[i],all_nodes[j])\n",
    "                print(e)\n",
    "            else:\n",
    "                if status[0].following and status[1].following:\n",
    "                    network[all_nodes[j]].extend([all_nodes[i]])\n",
    "                    if not (all_nodes[j] in network[all_nodes[i]]):\n",
    "                        network[all_nodes[i]].extend([all_nodes[j]])"
   ]
  },
  {
   "cell_type": "markdown",
   "metadata": {},
   "source": [
    "# 2. Discover some of the properties of the collected network"
   ]
  },
  {
   "cell_type": "markdown",
   "metadata": {},
   "source": [
    "## 2.1 Adjacency matrix"
   ]
  },
  {
   "cell_type": "markdown",
   "metadata": {},
   "source": [
    "Congradulations! You have now created a dictionary that describes a real Twitter network!\n",
    "We now want to transform this dictionary into the adjacency (or weight) matrix that you learned about in your first class. "
   ]
  },
  {
   "cell_type": "code",
   "execution_count": 14,
   "metadata": {
    "collapsed": true
   },
   "outputs": [],
   "source": [
    "W=np.zeros([len(all_nodes),len(all_nodes)], dtype=int)"
   ]
  },
  {
   "cell_type": "code",
   "execution_count": 15,
   "metadata": {
    "collapsed": true
   },
   "outputs": [],
   "source": [
    "# your code here\n",
    "for i in range(0,len(all_nodes)):\n",
    "    for j in range(i+1,len(all_nodes)):\n",
    "        if all_nodes[j] in network[all_nodes[i]]:\n",
    "            W[i,j] = 1\n",
    "            W[j,i] = 1"
   ]
  },
  {
   "cell_type": "markdown",
   "metadata": {},
   "source": [
    "Remember that a weight matrix should be symmetric. Check if it is:"
   ]
  },
  {
   "cell_type": "code",
   "execution_count": 16,
   "metadata": {},
   "outputs": [
    {
     "data": {
      "text/plain": [
       "(array([], dtype=int64), array([], dtype=int64))"
      ]
     },
     "execution_count": 16,
     "metadata": {},
     "output_type": "execute_result"
    }
   ],
   "source": [
    "np.nonzero(W-W.transpose())"
   ]
  },
  {
   "cell_type": "markdown",
   "metadata": {},
   "source": [
    "**Question 1:**\n",
    "It might happen that $W \\neq W^{T} $ for some $(i,j)$. Explain why this might be the case."
   ]
  },
  {
   "cell_type": "markdown",
   "metadata": {},
   "source": [
    "**Your answer here:** That shouldn't happen. If it does the programmer probably made a mistake somewhere."
   ]
  },
  {
   "cell_type": "markdown",
   "metadata": {},
   "source": [
    "Impose your weight matrix to be symmetric."
   ]
  },
  {
   "cell_type": "code",
   "execution_count": 17,
   "metadata": {
    "collapsed": true
   },
   "outputs": [],
   "source": [
    "# Make W is symmetric\n",
    "bigger = W.transpose() > W"
   ]
  },
  {
   "cell_type": "code",
   "execution_count": 18,
   "metadata": {
    "collapsed": true
   },
   "outputs": [],
   "source": [
    "W = W - W*bigger + W.transpose()*bigger"
   ]
  },
  {
   "cell_type": "markdown",
   "metadata": {},
   "source": [
    "Plot the weight matrix of your collected network.\n",
    "\n",
    "Hint: use `plt.spy()` to visualize a matrix."
   ]
  },
  {
   "cell_type": "code",
   "execution_count": 19,
   "metadata": {},
   "outputs": [
    {
     "data": {
      "text/plain": [
       "<matplotlib.text.Text at 0x7f2ea0ad7c90>"
      ]
     },
     "execution_count": 19,
     "metadata": {},
     "output_type": "execute_result"
    },
    {
     "data": {
      "image/png": "[encoded data removed]",
      "text/plain": [
       "<matplotlib.figure.Figure at 0x7f2ea0ada5d0>"
      ]
     },
     "metadata": {},
     "output_type": "display_data"
    }
   ],
   "source": [
    "# your code here\n",
    "plt.spy(W)\n",
    "plt.title('Adjacency Matrix W')"
   ]
  },
  {
   "cell_type": "code",
   "execution_count": 39,
   "metadata": {},
   "outputs": [
    {
     "name": "stdout",
     "output_type": "stream",
     "text": [
      "185\n"
     ]
    }
   ],
   "source": [
    "L = 0\n",
    "for n in all_nodes:\n",
    "    L += len(network[n])\n",
    "L = L/2\n",
    "print L"
   ]
  },
  {
   "cell_type": "markdown",
   "metadata": {},
   "source": [
    "**Question 2:**\n",
    "What is the maximum number of links $L_{max}$ in a network with $N$ nodes (where $N$ is the number of nodes in your collected network)? How many links $L$ are there in your collected network? Comment on how $L$ and $L_{max}$ compare."
   ]
  },
  {
   "cell_type": "markdown",
   "metadata": {},
   "source": [
    "**Your answer here:** The maximum number of links $L_{max} = N(N-1)/2$, which would correspond to an all-to-all connected network. $L_{max} \\neq N^2$ because we consider that a node can not be connected to itself and the connection from node A to node B is the same as the connection from node B to node A. For N=132, $L_{max} = 8646$. In our case L = 185, which is much less than $L_{max}$. This means that our network is relatively sparsely connected."
   ]
  },
  {
   "cell_type": "markdown",
   "metadata": {},
   "source": [
    "## 2.2 Degrees distribution"
   ]
  },
  {
   "cell_type": "markdown",
   "metadata": {},
   "source": [
    "Plot a histogram of the degree distribution. "
   ]
  },
  {
   "cell_type": "code",
   "execution_count": 20,
   "metadata": {
    "collapsed": true
   },
   "outputs": [],
   "source": [
    "p = np.zeros([len(all_nodes),1])# your code here\n",
    "for i in range(0,len(all_nodes)):\n",
    "    p[i] = len(network[all_nodes[i]])"
   ]
  },
  {
   "cell_type": "code",
   "execution_count": 65,
   "metadata": {},
   "outputs": [
    {
     "data": {
      "image/png": "[encoded data removed]",
      "text/plain": [
       "<matplotlib.figure.Figure at 0x7f2e83da4310>"
      ]
     },
     "metadata": {},
     "output_type": "display_data"
    }
   ],
   "source": [
    "plt.hist(p,bins=int(p.max()+1),range=(0,p.max()+1));"
   ]
  },
  {
   "cell_type": "markdown",
   "metadata": {},
   "source": [
    "**Question 3:** Comment on the plot. What do you observe? Would you expect a similar degree disribution in the complete Twitter network?"
   ]
  },
  {
   "cell_type": "markdown",
   "metadata": {},
   "source": [
    "**Your answer here:** We can observe some type of power law distribution for degrees from 1 to 7. This type of distribution is also what one would expect for the complete Twitter network except that the degrees would become much greater of course. The interesting part of our histogram is for degrees from 13 to 15. One can observe a small island of distribution around these values, which can be attributed to how we chose to sample the Twitter network. The reason for this is that we sampled 12 connections from the account of Applied Machine Learning Days and 12 more from each of these, which means that all first nodes would have at least 13 connections. This resulted in the observed island of distribution around degrees of 13 and would likely not be present in the complete Twitter network."
   ]
  },
  {
   "cell_type": "markdown",
   "metadata": {},
   "source": [
    "## 2.3 Average degree"
   ]
  },
  {
   "cell_type": "markdown",
   "metadata": {},
   "source": [
    "Calculate the average degree of your collected network."
   ]
  },
  {
   "cell_type": "code",
   "execution_count": 66,
   "metadata": {},
   "outputs": [
    {
     "name": "stdout",
     "output_type": "stream",
     "text": [
      "2.80303030303\n"
     ]
    }
   ],
   "source": [
    "d_avg = np.mean(p)# your code here\n",
    "print d_avg"
   ]
  },
  {
   "cell_type": "markdown",
   "metadata": {},
   "source": [
    "## 2.4 Diameter of the collected network"
   ]
  },
  {
   "cell_type": "markdown",
   "metadata": {},
   "source": [
    "**Question 4:** What is the diameter of the collected network? Please justify."
   ]
  },
  {
   "cell_type": "markdown",
   "metadata": {},
   "source": [
    "**Your answer here:** The diameter of this collected network will almost allways be 4, because the connectivity is very sparse, which means that the shortest path between many pairs of secondary nodes will have to pass by the \"Applied Machine Learning Days\" node and two of the \"first_nodes\"."
   ]
  },
  {
   "cell_type": "markdown",
   "metadata": {},
   "source": [
    "## 2.5 Pruning the collected network"
   ]
  },
  {
   "cell_type": "markdown",
   "metadata": {},
   "source": [
    "You might notice that some nodes have very few connections and hence our matrix is very sparse. Prune the collected network so that you keep only the nodes that have a degree that is greater than the average degree and plot the new adjacency matrix."
   ]
  },
  {
   "cell_type": "code",
   "execution_count": 67,
   "metadata": {
    "collapsed": true
   },
   "outputs": [],
   "source": [
    "Wpruned = W # your code here\n",
    "indexes = [True] * len(W)\n",
    "for i in range(0,len(W)):\n",
    "    indexes[i] = (sum(W[i])<=d_avg)\n",
    "\n",
    "for i in range(len(W)-1,0,-1):\n",
    "    if indexes[i]:\n",
    "        Wpruned=np.delete(Wpruned,i,0)\n",
    "        Wpruned=np.delete(Wpruned,i,1)        "
   ]
  },
  {
   "cell_type": "code",
   "execution_count": 68,
   "metadata": {},
   "outputs": [
    {
     "data": {
      "image/png": "[encoded data removed]",
      "text/plain": [
       "<matplotlib.figure.Figure at 0x7f2e83dfa6d0>"
      ]
     },
     "metadata": {},
     "output_type": "display_data"
    }
   ],
   "source": [
    "plt.spy(Wpruned, markersize=1)\n",
    "plt.title('Adjacency Matrix W');"
   ]
  },
  {
   "cell_type": "code",
   "execution_count": null,
   "metadata": {
    "collapsed": true
   },
   "outputs": [],
   "source": []
  }
 ],
 "metadata": {
  "kernelspec": {
   "display_name": "Python 2",
   "language": "python",
   "name": "python2"
  },
  "language_info": {
   "codemirror_mode": {
    "name": "ipython",
    "version": 2
   },
   "file_extension": ".py",
   "mimetype": "text/x-python",
   "name": "python",
   "nbconvert_exporter": "python",
   "pygments_lexer": "ipython2",
   "version": "2.7.13"
  }
 },
 "nbformat": 4,
 "nbformat_minor": 1
}
